{
 "cells": [
  {
   "cell_type": "code",
   "execution_count": 133,
   "metadata": {},
   "outputs": [
    {
     "name": "stdout",
     "output_type": "stream",
     "text": [
      "Requirement already satisfied: aif360 in /Users/yohanismael/opt/anaconda3/envs/tf/lib/python3.10/site-packages (0.5.0)\n",
      "Requirement already satisfied: scikit-learn>=1.0 in /Users/yohanismael/opt/anaconda3/envs/tf/lib/python3.10/site-packages (from aif360) (1.2.1)\n",
      "Requirement already satisfied: numpy>=1.16 in /Users/yohanismael/opt/anaconda3/envs/tf/lib/python3.10/site-packages (from aif360) (1.22.1)\n",
      "Requirement already satisfied: pandas>=0.24.0 in /Users/yohanismael/opt/anaconda3/envs/tf/lib/python3.10/site-packages (from aif360) (1.4.4)\n",
      "Requirement already satisfied: scipy>=1.2.0 in /Users/yohanismael/opt/anaconda3/envs/tf/lib/python3.10/site-packages (from aif360) (1.7.3)\n",
      "Requirement already satisfied: matplotlib in /Users/yohanismael/opt/anaconda3/envs/tf/lib/python3.10/site-packages (from aif360) (3.5.2)\n",
      "Requirement already satisfied: python-dateutil>=2.8.1 in /Users/yohanismael/opt/anaconda3/envs/tf/lib/python3.10/site-packages (from pandas>=0.24.0->aif360) (2.8.2)\n",
      "Requirement already satisfied: pytz>=2020.1 in /Users/yohanismael/opt/anaconda3/envs/tf/lib/python3.10/site-packages (from pandas>=0.24.0->aif360) (2022.7.1)\n",
      "Requirement already satisfied: joblib>=1.1.1 in /Users/yohanismael/opt/anaconda3/envs/tf/lib/python3.10/site-packages (from scikit-learn>=1.0->aif360) (1.1.1)\n",
      "Requirement already satisfied: threadpoolctl>=2.0.0 in /Users/yohanismael/opt/anaconda3/envs/tf/lib/python3.10/site-packages (from scikit-learn>=1.0->aif360) (3.1.0)\n",
      "Requirement already satisfied: cycler>=0.10 in /Users/yohanismael/opt/anaconda3/envs/tf/lib/python3.10/site-packages (from matplotlib->aif360) (0.11.0)\n",
      "Requirement already satisfied: fonttools>=4.22.0 in /Users/yohanismael/opt/anaconda3/envs/tf/lib/python3.10/site-packages (from matplotlib->aif360) (4.25.0)\n",
      "Requirement already satisfied: kiwisolver>=1.0.1 in /Users/yohanismael/opt/anaconda3/envs/tf/lib/python3.10/site-packages (from matplotlib->aif360) (1.4.4)\n",
      "Requirement already satisfied: packaging>=20.0 in /Users/yohanismael/opt/anaconda3/envs/tf/lib/python3.10/site-packages (from matplotlib->aif360) (22.0)\n",
      "Requirement already satisfied: pillow>=6.2.0 in /Users/yohanismael/opt/anaconda3/envs/tf/lib/python3.10/site-packages (from matplotlib->aif360) (9.3.0)\n",
      "Requirement already satisfied: pyparsing>=2.2.1 in /Users/yohanismael/opt/anaconda3/envs/tf/lib/python3.10/site-packages (from matplotlib->aif360) (3.0.9)\n",
      "Requirement already satisfied: six>=1.5 in /Users/yohanismael/opt/anaconda3/envs/tf/lib/python3.10/site-packages (from python-dateutil>=2.8.1->pandas>=0.24.0->aif360) (1.16.0)\n",
      "Note: you may need to restart the kernel to use updated packages.\n",
      "Requirement already satisfied: aif360[Reductions] in /Users/yohanismael/opt/anaconda3/envs/tf/lib/python3.10/site-packages (0.5.0)\n",
      "Requirement already satisfied: matplotlib in /Users/yohanismael/opt/anaconda3/envs/tf/lib/python3.10/site-packages (from aif360[Reductions]) (3.5.2)\n",
      "Requirement already satisfied: scipy>=1.2.0 in /Users/yohanismael/opt/anaconda3/envs/tf/lib/python3.10/site-packages (from aif360[Reductions]) (1.7.3)\n",
      "Requirement already satisfied: pandas>=0.24.0 in /Users/yohanismael/opt/anaconda3/envs/tf/lib/python3.10/site-packages (from aif360[Reductions]) (1.4.4)\n",
      "Requirement already satisfied: numpy>=1.16 in /Users/yohanismael/opt/anaconda3/envs/tf/lib/python3.10/site-packages (from aif360[Reductions]) (1.22.1)\n",
      "Requirement already satisfied: scikit-learn>=1.0 in /Users/yohanismael/opt/anaconda3/envs/tf/lib/python3.10/site-packages (from aif360[Reductions]) (1.2.1)\n",
      "Requirement already satisfied: fairlearn~=0.7 in /Users/yohanismael/opt/anaconda3/envs/tf/lib/python3.10/site-packages (from aif360[Reductions]) (0.8.0)\n",
      "Requirement already satisfied: python-dateutil>=2.8.1 in /Users/yohanismael/opt/anaconda3/envs/tf/lib/python3.10/site-packages (from pandas>=0.24.0->aif360[Reductions]) (2.8.2)\n",
      "Requirement already satisfied: pytz>=2020.1 in /Users/yohanismael/opt/anaconda3/envs/tf/lib/python3.10/site-packages (from pandas>=0.24.0->aif360[Reductions]) (2022.7.1)\n",
      "Requirement already satisfied: joblib>=1.1.1 in /Users/yohanismael/opt/anaconda3/envs/tf/lib/python3.10/site-packages (from scikit-learn>=1.0->aif360[Reductions]) (1.1.1)\n",
      "Requirement already satisfied: threadpoolctl>=2.0.0 in /Users/yohanismael/opt/anaconda3/envs/tf/lib/python3.10/site-packages (from scikit-learn>=1.0->aif360[Reductions]) (3.1.0)\n",
      "Requirement already satisfied: fonttools>=4.22.0 in /Users/yohanismael/opt/anaconda3/envs/tf/lib/python3.10/site-packages (from matplotlib->aif360[Reductions]) (4.25.0)\n",
      "Requirement already satisfied: packaging>=20.0 in /Users/yohanismael/opt/anaconda3/envs/tf/lib/python3.10/site-packages (from matplotlib->aif360[Reductions]) (22.0)\n",
      "Requirement already satisfied: pyparsing>=2.2.1 in /Users/yohanismael/opt/anaconda3/envs/tf/lib/python3.10/site-packages (from matplotlib->aif360[Reductions]) (3.0.9)\n",
      "Requirement already satisfied: cycler>=0.10 in /Users/yohanismael/opt/anaconda3/envs/tf/lib/python3.10/site-packages (from matplotlib->aif360[Reductions]) (0.11.0)\n",
      "Requirement already satisfied: kiwisolver>=1.0.1 in /Users/yohanismael/opt/anaconda3/envs/tf/lib/python3.10/site-packages (from matplotlib->aif360[Reductions]) (1.4.4)\n",
      "Requirement already satisfied: pillow>=6.2.0 in /Users/yohanismael/opt/anaconda3/envs/tf/lib/python3.10/site-packages (from matplotlib->aif360[Reductions]) (9.3.0)\n",
      "Requirement already satisfied: six>=1.5 in /Users/yohanismael/opt/anaconda3/envs/tf/lib/python3.10/site-packages (from python-dateutil>=2.8.1->pandas>=0.24.0->aif360[Reductions]) (1.16.0)\n",
      "Note: you may need to restart the kernel to use updated packages.\n",
      "Requirement already satisfied: aif360[LawSchoolGPA] in /Users/yohanismael/opt/anaconda3/envs/tf/lib/python3.10/site-packages (0.5.0)\n",
      "Requirement already satisfied: scikit-learn>=1.0 in /Users/yohanismael/opt/anaconda3/envs/tf/lib/python3.10/site-packages (from aif360[LawSchoolGPA]) (1.2.1)\n",
      "Requirement already satisfied: numpy>=1.16 in /Users/yohanismael/opt/anaconda3/envs/tf/lib/python3.10/site-packages (from aif360[LawSchoolGPA]) (1.22.1)\n",
      "Requirement already satisfied: matplotlib in /Users/yohanismael/opt/anaconda3/envs/tf/lib/python3.10/site-packages (from aif360[LawSchoolGPA]) (3.5.2)\n",
      "Requirement already satisfied: pandas>=0.24.0 in /Users/yohanismael/opt/anaconda3/envs/tf/lib/python3.10/site-packages (from aif360[LawSchoolGPA]) (1.4.4)\n",
      "Requirement already satisfied: scipy>=1.2.0 in /Users/yohanismael/opt/anaconda3/envs/tf/lib/python3.10/site-packages (from aif360[LawSchoolGPA]) (1.7.3)\n",
      "Requirement already satisfied: tempeh in /Users/yohanismael/opt/anaconda3/envs/tf/lib/python3.10/site-packages (from aif360[LawSchoolGPA]) (0.1.12)\n",
      "Requirement already satisfied: python-dateutil>=2.8.1 in /Users/yohanismael/opt/anaconda3/envs/tf/lib/python3.10/site-packages (from pandas>=0.24.0->aif360[LawSchoolGPA]) (2.8.2)\n",
      "Requirement already satisfied: pytz>=2020.1 in /Users/yohanismael/opt/anaconda3/envs/tf/lib/python3.10/site-packages (from pandas>=0.24.0->aif360[LawSchoolGPA]) (2022.7.1)\n",
      "Requirement already satisfied: threadpoolctl>=2.0.0 in /Users/yohanismael/opt/anaconda3/envs/tf/lib/python3.10/site-packages (from scikit-learn>=1.0->aif360[LawSchoolGPA]) (3.1.0)\n",
      "Requirement already satisfied: joblib>=1.1.1 in /Users/yohanismael/opt/anaconda3/envs/tf/lib/python3.10/site-packages (from scikit-learn>=1.0->aif360[LawSchoolGPA]) (1.1.1)\n",
      "Requirement already satisfied: fonttools>=4.22.0 in /Users/yohanismael/opt/anaconda3/envs/tf/lib/python3.10/site-packages (from matplotlib->aif360[LawSchoolGPA]) (4.25.0)\n",
      "Requirement already satisfied: kiwisolver>=1.0.1 in /Users/yohanismael/opt/anaconda3/envs/tf/lib/python3.10/site-packages (from matplotlib->aif360[LawSchoolGPA]) (1.4.4)\n",
      "Requirement already satisfied: pyparsing>=2.2.1 in /Users/yohanismael/opt/anaconda3/envs/tf/lib/python3.10/site-packages (from matplotlib->aif360[LawSchoolGPA]) (3.0.9)\n",
      "Requirement already satisfied: cycler>=0.10 in /Users/yohanismael/opt/anaconda3/envs/tf/lib/python3.10/site-packages (from matplotlib->aif360[LawSchoolGPA]) (0.11.0)\n",
      "Requirement already satisfied: packaging>=20.0 in /Users/yohanismael/opt/anaconda3/envs/tf/lib/python3.10/site-packages (from matplotlib->aif360[LawSchoolGPA]) (22.0)\n",
      "Requirement already satisfied: pillow>=6.2.0 in /Users/yohanismael/opt/anaconda3/envs/tf/lib/python3.10/site-packages (from matplotlib->aif360[LawSchoolGPA]) (9.3.0)\n",
      "Requirement already satisfied: requests in /Users/yohanismael/opt/anaconda3/envs/tf/lib/python3.10/site-packages (from tempeh->aif360[LawSchoolGPA]) (2.28.1)\n",
      "Requirement already satisfied: pytest in /Users/yohanismael/opt/anaconda3/envs/tf/lib/python3.10/site-packages (from tempeh->aif360[LawSchoolGPA]) (7.2.1)\n",
      "Requirement already satisfied: shap in /Users/yohanismael/opt/anaconda3/envs/tf/lib/python3.10/site-packages (from tempeh->aif360[LawSchoolGPA]) (0.41.0)\n",
      "Requirement already satisfied: memory-profiler in /Users/yohanismael/opt/anaconda3/envs/tf/lib/python3.10/site-packages (from tempeh->aif360[LawSchoolGPA]) (0.61.0)\n",
      "Requirement already satisfied: six>=1.5 in /Users/yohanismael/opt/anaconda3/envs/tf/lib/python3.10/site-packages (from python-dateutil>=2.8.1->pandas>=0.24.0->aif360[LawSchoolGPA]) (1.16.0)\n",
      "Requirement already satisfied: psutil in /Users/yohanismael/opt/anaconda3/envs/tf/lib/python3.10/site-packages (from memory-profiler->tempeh->aif360[LawSchoolGPA]) (5.9.0)\n",
      "Requirement already satisfied: attrs>=19.2.0 in /Users/yohanismael/opt/anaconda3/envs/tf/lib/python3.10/site-packages (from pytest->tempeh->aif360[LawSchoolGPA]) (22.1.0)\n",
      "Requirement already satisfied: tomli>=1.0.0 in /Users/yohanismael/opt/anaconda3/envs/tf/lib/python3.10/site-packages (from pytest->tempeh->aif360[LawSchoolGPA]) (2.0.1)\n",
      "Requirement already satisfied: exceptiongroup>=1.0.0rc8 in /Users/yohanismael/opt/anaconda3/envs/tf/lib/python3.10/site-packages (from pytest->tempeh->aif360[LawSchoolGPA]) (1.1.0)\n",
      "Requirement already satisfied: pluggy<2.0,>=0.12 in /Users/yohanismael/opt/anaconda3/envs/tf/lib/python3.10/site-packages (from pytest->tempeh->aif360[LawSchoolGPA]) (1.0.0)\n",
      "Requirement already satisfied: iniconfig in /Users/yohanismael/opt/anaconda3/envs/tf/lib/python3.10/site-packages (from pytest->tempeh->aif360[LawSchoolGPA]) (2.0.0)\n",
      "Requirement already satisfied: urllib3<1.27,>=1.21.1 in /Users/yohanismael/opt/anaconda3/envs/tf/lib/python3.10/site-packages (from requests->tempeh->aif360[LawSchoolGPA]) (1.26.14)\n",
      "Requirement already satisfied: idna<4,>=2.5 in /Users/yohanismael/opt/anaconda3/envs/tf/lib/python3.10/site-packages (from requests->tempeh->aif360[LawSchoolGPA]) (3.4)\n",
      "Requirement already satisfied: certifi>=2017.4.17 in /Users/yohanismael/opt/anaconda3/envs/tf/lib/python3.10/site-packages (from requests->tempeh->aif360[LawSchoolGPA]) (2022.12.7)\n",
      "Requirement already satisfied: charset-normalizer<3,>=2 in /Users/yohanismael/opt/anaconda3/envs/tf/lib/python3.10/site-packages (from requests->tempeh->aif360[LawSchoolGPA]) (2.0.4)\n",
      "Requirement already satisfied: slicer==0.0.7 in /Users/yohanismael/opt/anaconda3/envs/tf/lib/python3.10/site-packages (from shap->tempeh->aif360[LawSchoolGPA]) (0.0.7)\n",
      "Requirement already satisfied: numba in /Users/yohanismael/opt/anaconda3/envs/tf/lib/python3.10/site-packages (from shap->tempeh->aif360[LawSchoolGPA]) (0.56.4)\n",
      "Requirement already satisfied: cloudpickle in /Users/yohanismael/opt/anaconda3/envs/tf/lib/python3.10/site-packages (from shap->tempeh->aif360[LawSchoolGPA]) (2.2.1)\n",
      "Requirement already satisfied: tqdm>4.25.0 in /Users/yohanismael/opt/anaconda3/envs/tf/lib/python3.10/site-packages (from shap->tempeh->aif360[LawSchoolGPA]) (4.64.1)\n",
      "Requirement already satisfied: llvmlite<0.40,>=0.39.0dev0 in /Users/yohanismael/opt/anaconda3/envs/tf/lib/python3.10/site-packages (from numba->shap->tempeh->aif360[LawSchoolGPA]) (0.39.1)\n",
      "Requirement already satisfied: setuptools in /Users/yohanismael/opt/anaconda3/envs/tf/lib/python3.10/site-packages (from numba->shap->tempeh->aif360[LawSchoolGPA]) (64.0.2)\n",
      "Note: you may need to restart the kernel to use updated packages.\n"
     ]
    }
   ],
   "source": [
    "%pip install aif360\n",
    "%pip install 'aif360[Reductions]'\n",
    "%pip install 'aif360[LawSchoolGPA]'"
   ]
  },
  {
   "cell_type": "code",
   "execution_count": 134,
   "metadata": {},
   "outputs": [],
   "source": [
    "import sys \n",
    "import os  \n",
    "import matplotlib.pyplot as plt\n",
    "import numpy as np\n",
    "import pandas as pd\n",
    "\n",
    "from collections import OrderedDict\n",
    "\n",
    "from sklearn.model_selection import train_test_split\n",
    "\n",
    "from aif360.algorithms.preprocessing.optim_preproc import OptimPreproc\n",
    "from aif360.algorithms.preprocessing.optim_preproc_helpers.data_preproc_functions\\\n",
    "            import load_preproc_data_adult, load_preproc_data_german, load_preproc_data_compas\n",
    "from aif360.algorithms.preprocessing.optim_preproc_helpers.distortion_functions\\\n",
    "            import get_distortion_adult, get_distortion_german, get_distortion_compas\n",
    "from aif360.algorithms.preprocessing.optim_preproc_helpers.opt_tools import OptTools\n",
    "import aif360.metrics \n",
    "\n",
    "from sklearn.ensemble import RandomForestClassifier\n",
    "from sklearn.pipeline import make_pipeline\n",
    "\n",
    "import aif360.datasets\n",
    "import aif360.algorithms.preprocessing\n",
    "import aif360.algorithms.inprocessing\n",
    "import aif360.algorithms.postprocessing\n",
    "from IPython.display import Markdown, display\n",
    "from aif360.algorithms.inprocessing import MetaFairClassifier\n",
    "from aif360.algorithms.preprocessing import Reweighing\n",
    "from sklearn.model_selection import train_test_split\n",
    "\n",
    "from aif360.metrics import ClassificationMetric\n",
    "\n",
    "import tensorflow as tf\n",
    "from tensorflow.python.framework.ops import disable_eager_execution\n",
    "\n",
    "disable_eager_execution()\n",
    "\n",
    "def compute_metrics(dataset_true, dataset_pred, \n",
    "                    unprivileged_groups, privileged_groups,\n",
    "                    disp = True):\n",
    "    \"\"\" Compute the key metrics \"\"\"\n",
    "    classified_metric_pred = ClassificationMetric(dataset_true,\n",
    "                                                 dataset_pred, \n",
    "                                                 unprivileged_groups=unprivileged_groups,\n",
    "                                                 privileged_groups=privileged_groups)\n",
    "    metrics = OrderedDict()\n",
    "    metrics[\"Balanced accuracy\"] = 0.5*(classified_metric_pred.true_positive_rate()+\n",
    "                                             classified_metric_pred.true_negative_rate())\n",
    "    metrics[\"Statistical parity difference\"] = classified_metric_pred.statistical_parity_difference()\n",
    "    metrics[\"Disparate impact\"] = classified_metric_pred.disparate_impact()\n",
    "    metrics[\"Average odds difference\"] = classified_metric_pred.average_odds_difference()\n",
    "    metrics[\"Equal opportunity difference\"] = classified_metric_pred.equal_opportunity_difference()\n",
    "    metrics[\"Theil index\"] = classified_metric_pred.theil_index()\n",
    "    \n",
    "    if disp:\n",
    "        for k in metrics:\n",
    "            print(\"%s = %.4f\" % (k, metrics[k]))\n",
    "    \n",
    "    return metrics"
   ]
  },
  {
   "cell_type": "code",
   "execution_count": 135,
   "metadata": {},
   "outputs": [],
   "source": [
    "\n",
    "from aif360.metrics import BinaryLabelDatasetMetric\n",
    "from aif360.algorithms.preprocessing.optim_preproc import \\\n",
    "        OptimPreproc\n",
    "from aif360.algorithms.preprocessing.optim_preproc_helpers. \\\n",
    "        data_preproc_functions import load_preproc_data_adult\n",
    "from aif360.algorithms.preprocessing.optim_preproc_helpers. \\\n",
    "        distortion_functions import get_distortion_adult\n",
    "from aif360.algorithms.preprocessing.optim_preproc_helpers. \\\n",
    "        opt_tools import OptTools\n"
   ]
  },
  {
   "cell_type": "code",
   "execution_count": 136,
   "metadata": {},
   "outputs": [
    {
     "data": {
      "text/markdown": [
       "# Start Coding"
      ],
      "text/plain": [
       "<IPython.core.display.Markdown object>"
      ]
     },
     "metadata": {},
     "output_type": "display_data"
    }
   ],
   "source": [
    "import pandas as pd\n",
    "import numpy as np\n",
    "import matplotlib.pyplot as plt\n",
    "\n",
    "from IPython.display import Markdown, display\n",
    "str = '# Start'\n",
    "display(Markdown(str+' Coding'))"
   ]
  },
  {
   "cell_type": "code",
   "execution_count": 137,
   "metadata": {},
   "outputs": [
    {
     "data": {
      "text/html": [
       "<div>\n",
       "<style scoped>\n",
       "    .dataframe tbody tr th:only-of-type {\n",
       "        vertical-align: middle;\n",
       "    }\n",
       "\n",
       "    .dataframe tbody tr th {\n",
       "        vertical-align: top;\n",
       "    }\n",
       "\n",
       "    .dataframe thead th {\n",
       "        text-align: right;\n",
       "    }\n",
       "</style>\n",
       "<table border=\"1\" class=\"dataframe\">\n",
       "  <thead>\n",
       "    <tr style=\"text-align: right;\">\n",
       "      <th></th>\n",
       "      <th>Position</th>\n",
       "      <th>Oral</th>\n",
       "      <th>Written</th>\n",
       "      <th>Race</th>\n",
       "      <th>Combine</th>\n",
       "      <th>Promotion</th>\n",
       "    </tr>\n",
       "  </thead>\n",
       "  <tbody>\n",
       "    <tr>\n",
       "      <th>0</th>\n",
       "      <td>Captain</td>\n",
       "      <td>89.52</td>\n",
       "      <td>95</td>\n",
       "      <td>W</td>\n",
       "      <td>92.808</td>\n",
       "      <td>Promotion</td>\n",
       "    </tr>\n",
       "    <tr>\n",
       "      <th>1</th>\n",
       "      <td>Captain</td>\n",
       "      <td>80.00</td>\n",
       "      <td>95</td>\n",
       "      <td>W</td>\n",
       "      <td>89.000</td>\n",
       "      <td>Promotion</td>\n",
       "    </tr>\n",
       "    <tr>\n",
       "      <th>2</th>\n",
       "      <td>Captain</td>\n",
       "      <td>82.38</td>\n",
       "      <td>87</td>\n",
       "      <td>W</td>\n",
       "      <td>85.152</td>\n",
       "      <td>Promotion</td>\n",
       "    </tr>\n",
       "    <tr>\n",
       "      <th>3</th>\n",
       "      <td>Captain</td>\n",
       "      <td>88.57</td>\n",
       "      <td>76</td>\n",
       "      <td>W</td>\n",
       "      <td>81.028</td>\n",
       "      <td>Promotion</td>\n",
       "    </tr>\n",
       "    <tr>\n",
       "      <th>4</th>\n",
       "      <td>Captain</td>\n",
       "      <td>76.19</td>\n",
       "      <td>84</td>\n",
       "      <td>W</td>\n",
       "      <td>80.876</td>\n",
       "      <td>Promotion</td>\n",
       "    </tr>\n",
       "    <tr>\n",
       "      <th>...</th>\n",
       "      <td>...</td>\n",
       "      <td>...</td>\n",
       "      <td>...</td>\n",
       "      <td>...</td>\n",
       "      <td>...</td>\n",
       "      <td>...</td>\n",
       "    </tr>\n",
       "    <tr>\n",
       "      <th>113</th>\n",
       "      <td>Lieutenant</td>\n",
       "      <td>40.83</td>\n",
       "      <td>64</td>\n",
       "      <td>H</td>\n",
       "      <td>54.732</td>\n",
       "      <td>No promotion</td>\n",
       "    </tr>\n",
       "    <tr>\n",
       "      <th>114</th>\n",
       "      <td>Lieutenant</td>\n",
       "      <td>52.08</td>\n",
       "      <td>56</td>\n",
       "      <td>B</td>\n",
       "      <td>54.432</td>\n",
       "      <td>No promotion</td>\n",
       "    </tr>\n",
       "    <tr>\n",
       "      <th>115</th>\n",
       "      <td>Lieutenant</td>\n",
       "      <td>48.33</td>\n",
       "      <td>58</td>\n",
       "      <td>H</td>\n",
       "      <td>54.132</td>\n",
       "      <td>No promotion</td>\n",
       "    </tr>\n",
       "    <tr>\n",
       "      <th>116</th>\n",
       "      <td>Lieutenant</td>\n",
       "      <td>52.92</td>\n",
       "      <td>49</td>\n",
       "      <td>B</td>\n",
       "      <td>50.568</td>\n",
       "      <td>No promotion</td>\n",
       "    </tr>\n",
       "    <tr>\n",
       "      <th>117</th>\n",
       "      <td>Lieutenant</td>\n",
       "      <td>45.83</td>\n",
       "      <td>46</td>\n",
       "      <td>B</td>\n",
       "      <td>45.932</td>\n",
       "      <td>No promotion</td>\n",
       "    </tr>\n",
       "  </tbody>\n",
       "</table>\n",
       "<p>118 rows × 6 columns</p>\n",
       "</div>"
      ],
      "text/plain": [
       "       Position   Oral  Written Race  Combine     Promotion\n",
       "0       Captain  89.52       95    W   92.808     Promotion\n",
       "1       Captain  80.00       95    W   89.000     Promotion\n",
       "2       Captain  82.38       87    W   85.152     Promotion\n",
       "3       Captain  88.57       76    W   81.028     Promotion\n",
       "4       Captain  76.19       84    W   80.876     Promotion\n",
       "..          ...    ...      ...  ...      ...           ...\n",
       "113  Lieutenant  40.83       64    H   54.732  No promotion\n",
       "114  Lieutenant  52.08       56    B   54.432  No promotion\n",
       "115  Lieutenant  48.33       58    H   54.132  No promotion\n",
       "116  Lieutenant  52.92       49    B   50.568  No promotion\n",
       "117  Lieutenant  45.83       46    B   45.932  No promotion\n",
       "\n",
       "[118 rows x 6 columns]"
      ]
     },
     "execution_count": 137,
     "metadata": {},
     "output_type": "execute_result"
    }
   ],
   "source": [
    "data_ricci=pd.read_csv('data/Ricci/ricci_processed.csv')\n",
    "data_ricci"
   ]
  },
  {
   "cell_type": "code",
   "execution_count": 138,
   "metadata": {},
   "outputs": [
    {
     "data": {
      "text/html": [
       "<div>\n",
       "<style scoped>\n",
       "    .dataframe tbody tr th:only-of-type {\n",
       "        vertical-align: middle;\n",
       "    }\n",
       "\n",
       "    .dataframe tbody tr th {\n",
       "        vertical-align: top;\n",
       "    }\n",
       "\n",
       "    .dataframe thead tr th {\n",
       "        text-align: left;\n",
       "    }\n",
       "\n",
       "    .dataframe thead tr:last-of-type th {\n",
       "        text-align: right;\n",
       "    }\n",
       "</style>\n",
       "<table border=\"1\" class=\"dataframe\">\n",
       "  <thead>\n",
       "    <tr>\n",
       "      <th></th>\n",
       "      <th colspan=\"8\" halign=\"left\">Oral</th>\n",
       "      <th colspan=\"5\" halign=\"left\">Written</th>\n",
       "      <th colspan=\"8\" halign=\"left\">Combine</th>\n",
       "    </tr>\n",
       "    <tr>\n",
       "      <th></th>\n",
       "      <th>count</th>\n",
       "      <th>mean</th>\n",
       "      <th>std</th>\n",
       "      <th>min</th>\n",
       "      <th>25%</th>\n",
       "      <th>50%</th>\n",
       "      <th>75%</th>\n",
       "      <th>max</th>\n",
       "      <th>count</th>\n",
       "      <th>mean</th>\n",
       "      <th>...</th>\n",
       "      <th>75%</th>\n",
       "      <th>max</th>\n",
       "      <th>count</th>\n",
       "      <th>mean</th>\n",
       "      <th>std</th>\n",
       "      <th>min</th>\n",
       "      <th>25%</th>\n",
       "      <th>50%</th>\n",
       "      <th>75%</th>\n",
       "      <th>max</th>\n",
       "    </tr>\n",
       "    <tr>\n",
       "      <th>Race</th>\n",
       "      <th></th>\n",
       "      <th></th>\n",
       "      <th></th>\n",
       "      <th></th>\n",
       "      <th></th>\n",
       "      <th></th>\n",
       "      <th></th>\n",
       "      <th></th>\n",
       "      <th></th>\n",
       "      <th></th>\n",
       "      <th></th>\n",
       "      <th></th>\n",
       "      <th></th>\n",
       "      <th></th>\n",
       "      <th></th>\n",
       "      <th></th>\n",
       "      <th></th>\n",
       "      <th></th>\n",
       "      <th></th>\n",
       "      <th></th>\n",
       "      <th></th>\n",
       "    </tr>\n",
       "  </thead>\n",
       "  <tbody>\n",
       "    <tr>\n",
       "      <th>B</th>\n",
       "      <td>27.0</td>\n",
       "      <td>63.952222</td>\n",
       "      <td>10.974650</td>\n",
       "      <td>45.83</td>\n",
       "      <td>55.415</td>\n",
       "      <td>61.25</td>\n",
       "      <td>70.6550</td>\n",
       "      <td>92.08</td>\n",
       "      <td>27.0</td>\n",
       "      <td>63.592593</td>\n",
       "      <td>...</td>\n",
       "      <td>71.50</td>\n",
       "      <td>86.0</td>\n",
       "      <td>27.0</td>\n",
       "      <td>63.736444</td>\n",
       "      <td>8.744066</td>\n",
       "      <td>45.932</td>\n",
       "      <td>57.662</td>\n",
       "      <td>61.068</td>\n",
       "      <td>72.030</td>\n",
       "      <td>76.600</td>\n",
       "    </tr>\n",
       "    <tr>\n",
       "      <th>H</th>\n",
       "      <td>23.0</td>\n",
       "      <td>57.036957</td>\n",
       "      <td>10.990928</td>\n",
       "      <td>40.83</td>\n",
       "      <td>49.375</td>\n",
       "      <td>56.25</td>\n",
       "      <td>64.8200</td>\n",
       "      <td>79.05</td>\n",
       "      <td>23.0</td>\n",
       "      <td>70.869565</td>\n",
       "      <td>...</td>\n",
       "      <td>73.50</td>\n",
       "      <td>84.0</td>\n",
       "      <td>23.0</td>\n",
       "      <td>65.336522</td>\n",
       "      <td>7.142540</td>\n",
       "      <td>54.132</td>\n",
       "      <td>60.078</td>\n",
       "      <td>65.000</td>\n",
       "      <td>69.946</td>\n",
       "      <td>79.676</td>\n",
       "    </tr>\n",
       "    <tr>\n",
       "      <th>W</th>\n",
       "      <td>68.0</td>\n",
       "      <td>69.017647</td>\n",
       "      <td>12.039179</td>\n",
       "      <td>44.58</td>\n",
       "      <td>58.645</td>\n",
       "      <td>71.67</td>\n",
       "      <td>77.7075</td>\n",
       "      <td>89.52</td>\n",
       "      <td>68.0</td>\n",
       "      <td>75.117647</td>\n",
       "      <td>...</td>\n",
       "      <td>82.25</td>\n",
       "      <td>95.0</td>\n",
       "      <td>68.0</td>\n",
       "      <td>72.677647</td>\n",
       "      <td>8.834185</td>\n",
       "      <td>56.324</td>\n",
       "      <td>68.015</td>\n",
       "      <td>71.642</td>\n",
       "      <td>78.451</td>\n",
       "      <td>92.808</td>\n",
       "    </tr>\n",
       "  </tbody>\n",
       "</table>\n",
       "<p>3 rows × 24 columns</p>\n",
       "</div>"
      ],
      "text/plain": [
       "      Oral                                                              \\\n",
       "     count       mean        std    min     25%    50%      75%    max   \n",
       "Race                                                                     \n",
       "B     27.0  63.952222  10.974650  45.83  55.415  61.25  70.6550  92.08   \n",
       "H     23.0  57.036957  10.990928  40.83  49.375  56.25  64.8200  79.05   \n",
       "W     68.0  69.017647  12.039179  44.58  58.645  71.67  77.7075  89.52   \n",
       "\n",
       "     Written             ...              Combine                       \\\n",
       "       count       mean  ...    75%   max   count       mean       std   \n",
       "Race                     ...                                             \n",
       "B       27.0  63.592593  ...  71.50  86.0    27.0  63.736444  8.744066   \n",
       "H       23.0  70.869565  ...  73.50  84.0    23.0  65.336522  7.142540   \n",
       "W       68.0  75.117647  ...  82.25  95.0    68.0  72.677647  8.834185   \n",
       "\n",
       "                                              \n",
       "         min     25%     50%     75%     max  \n",
       "Race                                          \n",
       "B     45.932  57.662  61.068  72.030  76.600  \n",
       "H     54.132  60.078  65.000  69.946  79.676  \n",
       "W     56.324  68.015  71.642  78.451  92.808  \n",
       "\n",
       "[3 rows x 24 columns]"
      ]
     },
     "execution_count": 138,
     "metadata": {},
     "output_type": "execute_result"
    }
   ],
   "source": [
    "data_ricci.groupby('Race').describe()"
   ]
  },
  {
   "cell_type": "code",
   "execution_count": 139,
   "metadata": {},
   "outputs": [
    {
     "data": {
      "text/html": [
       "<div>\n",
       "<style scoped>\n",
       "    .dataframe tbody tr th:only-of-type {\n",
       "        vertical-align: middle;\n",
       "    }\n",
       "\n",
       "    .dataframe tbody tr th {\n",
       "        vertical-align: top;\n",
       "    }\n",
       "\n",
       "    .dataframe thead th {\n",
       "        text-align: right;\n",
       "    }\n",
       "</style>\n",
       "<table border=\"1\" class=\"dataframe\">\n",
       "  <thead>\n",
       "    <tr style=\"text-align: right;\">\n",
       "      <th></th>\n",
       "      <th></th>\n",
       "      <th>count</th>\n",
       "      <th>mean</th>\n",
       "      <th>std</th>\n",
       "      <th>min</th>\n",
       "      <th>25%</th>\n",
       "      <th>50%</th>\n",
       "      <th>75%</th>\n",
       "      <th>max</th>\n",
       "    </tr>\n",
       "    <tr>\n",
       "      <th>Position</th>\n",
       "      <th>Race</th>\n",
       "      <th></th>\n",
       "      <th></th>\n",
       "      <th></th>\n",
       "      <th></th>\n",
       "      <th></th>\n",
       "      <th></th>\n",
       "      <th></th>\n",
       "      <th></th>\n",
       "    </tr>\n",
       "  </thead>\n",
       "  <tbody>\n",
       "    <tr>\n",
       "      <th rowspan=\"3\" valign=\"top\">Captain</th>\n",
       "      <th>B</th>\n",
       "      <td>8.0</td>\n",
       "      <td>63.782000</td>\n",
       "      <td>8.492689</td>\n",
       "      <td>51.304</td>\n",
       "      <td>57.594</td>\n",
       "      <td>63.900</td>\n",
       "      <td>70.742</td>\n",
       "      <td>74.952</td>\n",
       "    </tr>\n",
       "    <tr>\n",
       "      <th>H</th>\n",
       "      <td>8.0</td>\n",
       "      <td>68.546500</td>\n",
       "      <td>8.701684</td>\n",
       "      <td>57.344</td>\n",
       "      <td>61.685</td>\n",
       "      <td>67.524</td>\n",
       "      <td>76.615</td>\n",
       "      <td>79.676</td>\n",
       "    </tr>\n",
       "    <tr>\n",
       "      <th>W</th>\n",
       "      <td>25.0</td>\n",
       "      <td>74.112800</td>\n",
       "      <td>8.251842</td>\n",
       "      <td>56.324</td>\n",
       "      <td>69.372</td>\n",
       "      <td>73.732</td>\n",
       "      <td>78.124</td>\n",
       "      <td>92.808</td>\n",
       "    </tr>\n",
       "    <tr>\n",
       "      <th rowspan=\"3\" valign=\"top\">Lieutenant</th>\n",
       "      <th>B</th>\n",
       "      <td>19.0</td>\n",
       "      <td>63.717263</td>\n",
       "      <td>9.076899</td>\n",
       "      <td>45.932</td>\n",
       "      <td>58.132</td>\n",
       "      <td>61.068</td>\n",
       "      <td>72.482</td>\n",
       "      <td>76.600</td>\n",
       "    </tr>\n",
       "    <tr>\n",
       "      <th>H</th>\n",
       "      <td>15.0</td>\n",
       "      <td>63.624533</td>\n",
       "      <td>5.768875</td>\n",
       "      <td>54.132</td>\n",
       "      <td>60.000</td>\n",
       "      <td>63.268</td>\n",
       "      <td>68.666</td>\n",
       "      <td>71.200</td>\n",
       "    </tr>\n",
       "    <tr>\n",
       "      <th>W</th>\n",
       "      <td>43.0</td>\n",
       "      <td>71.843256</td>\n",
       "      <td>9.145921</td>\n",
       "      <td>56.632</td>\n",
       "      <td>66.434</td>\n",
       "      <td>70.732</td>\n",
       "      <td>78.766</td>\n",
       "      <td>90.100</td>\n",
       "    </tr>\n",
       "  </tbody>\n",
       "</table>\n",
       "</div>"
      ],
      "text/plain": [
       "                 count       mean       std     min     25%     50%     75%  \\\n",
       "Position   Race                                                               \n",
       "Captain    B       8.0  63.782000  8.492689  51.304  57.594  63.900  70.742   \n",
       "           H       8.0  68.546500  8.701684  57.344  61.685  67.524  76.615   \n",
       "           W      25.0  74.112800  8.251842  56.324  69.372  73.732  78.124   \n",
       "Lieutenant B      19.0  63.717263  9.076899  45.932  58.132  61.068  72.482   \n",
       "           H      15.0  63.624533  5.768875  54.132  60.000  63.268  68.666   \n",
       "           W      43.0  71.843256  9.145921  56.632  66.434  70.732  78.766   \n",
       "\n",
       "                    max  \n",
       "Position   Race          \n",
       "Captain    B     74.952  \n",
       "           H     79.676  \n",
       "           W     92.808  \n",
       "Lieutenant B     76.600  \n",
       "           H     71.200  \n",
       "           W     90.100  "
      ]
     },
     "execution_count": 139,
     "metadata": {},
     "output_type": "execute_result"
    }
   ],
   "source": [
    "data_ricci.groupby(['Position', 'Race']).describe()['Combine']"
   ]
  },
  {
   "attachments": {},
   "cell_type": "markdown",
   "metadata": {},
   "source": [
    "# aif360"
   ]
  },
  {
   "attachments": {},
   "cell_type": "markdown",
   "metadata": {},
   "source": [
    "## Pre Processing"
   ]
  },
  {
   "cell_type": "code",
   "execution_count": 140,
   "metadata": {},
   "outputs": [],
   "source": [
    "import aif360\n",
    "import aif360.metrics\n",
    "import aif360.datasets"
   ]
  },
  {
   "cell_type": "code",
   "execution_count": 141,
   "metadata": {},
   "outputs": [],
   "source": [
    "data_ricci=pd.read_csv('data/Ricci/ricci_processed.csv')\n",
    "pre_proc_dataset= data_ricci.replace(['W','B','H','Captain','Lieutenant'],[1,0,0,1,0])\n",
    "pre_proc_dataset= pre_proc_dataset.replace(['Promotion','No promotion'],[1,0])"
   ]
  },
  {
   "cell_type": "code",
   "execution_count": 142,
   "metadata": {},
   "outputs": [
    {
     "data": {
      "text/html": [
       "<div>\n",
       "<style scoped>\n",
       "    .dataframe tbody tr th:only-of-type {\n",
       "        vertical-align: middle;\n",
       "    }\n",
       "\n",
       "    .dataframe tbody tr th {\n",
       "        vertical-align: top;\n",
       "    }\n",
       "\n",
       "    .dataframe thead th {\n",
       "        text-align: right;\n",
       "    }\n",
       "</style>\n",
       "<table border=\"1\" class=\"dataframe\">\n",
       "  <thead>\n",
       "    <tr style=\"text-align: right;\">\n",
       "      <th></th>\n",
       "      <th>Position</th>\n",
       "      <th>Oral</th>\n",
       "      <th>Written</th>\n",
       "      <th>Race</th>\n",
       "      <th>Combine</th>\n",
       "      <th>Promotion</th>\n",
       "    </tr>\n",
       "  </thead>\n",
       "  <tbody>\n",
       "    <tr>\n",
       "      <th>0</th>\n",
       "      <td>1</td>\n",
       "      <td>0.950049</td>\n",
       "      <td>1.000000</td>\n",
       "      <td>1</td>\n",
       "      <td>1.000000</td>\n",
       "      <td>1</td>\n",
       "    </tr>\n",
       "    <tr>\n",
       "      <th>1</th>\n",
       "      <td>1</td>\n",
       "      <td>0.764293</td>\n",
       "      <td>1.000000</td>\n",
       "      <td>1</td>\n",
       "      <td>0.918764</td>\n",
       "      <td>1</td>\n",
       "    </tr>\n",
       "    <tr>\n",
       "      <th>2</th>\n",
       "      <td>1</td>\n",
       "      <td>0.810732</td>\n",
       "      <td>0.836735</td>\n",
       "      <td>1</td>\n",
       "      <td>0.836675</td>\n",
       "      <td>1</td>\n",
       "    </tr>\n",
       "    <tr>\n",
       "      <th>3</th>\n",
       "      <td>1</td>\n",
       "      <td>0.931512</td>\n",
       "      <td>0.612245</td>\n",
       "      <td>1</td>\n",
       "      <td>0.748699</td>\n",
       "      <td>1</td>\n",
       "    </tr>\n",
       "    <tr>\n",
       "      <th>4</th>\n",
       "      <td>1</td>\n",
       "      <td>0.689951</td>\n",
       "      <td>0.775510</td>\n",
       "      <td>1</td>\n",
       "      <td>0.745456</td>\n",
       "      <td>1</td>\n",
       "    </tr>\n",
       "  </tbody>\n",
       "</table>\n",
       "</div>"
      ],
      "text/plain": [
       "   Position      Oral   Written  Race   Combine  Promotion\n",
       "0         1  0.950049  1.000000     1  1.000000          1\n",
       "1         1  0.764293  1.000000     1  0.918764          1\n",
       "2         1  0.810732  0.836735     1  0.836675          1\n",
       "3         1  0.931512  0.612245     1  0.748699          1\n",
       "4         1  0.689951  0.775510     1  0.745456          1"
      ]
     },
     "execution_count": 142,
     "metadata": {},
     "output_type": "execute_result"
    }
   ],
   "source": [
    "pre_proc_dataset['Oral']= (pre_proc_dataset['Oral']-min(pre_proc_dataset['Oral']))/(max(pre_proc_dataset['Oral'])-min(pre_proc_dataset['Oral']))\n",
    "pre_proc_dataset['Written']= (pre_proc_dataset['Written']-min(pre_proc_dataset['Written']))/(max(pre_proc_dataset['Written'])-min(pre_proc_dataset['Written']))\n",
    "pre_proc_dataset['Combine']= (pre_proc_dataset['Combine']-min(pre_proc_dataset['Combine']))/(max(pre_proc_dataset['Combine'])-min(pre_proc_dataset['Combine']))\n",
    "pre_proc_dataset.head()"
   ]
  },
  {
   "cell_type": "code",
   "execution_count": 143,
   "metadata": {},
   "outputs": [
    {
     "name": "stderr",
     "output_type": "stream",
     "text": [
      "/var/folders/lc/x5z01dj94tx8cvz5yhryw4vm0000gn/T/ipykernel_33110/1690238757.py:1: UserWarning: Boolean Series key will be reindexed to match DataFrame index.\n",
      "  pre_proc_dataset[pre_proc_dataset.Race==1][pre_proc_dataset.Promotion==1].shape[0]\n"
     ]
    },
    {
     "data": {
      "text/plain": [
       "41"
      ]
     },
     "execution_count": 143,
     "metadata": {},
     "output_type": "execute_result"
    }
   ],
   "source": [
    "pre_proc_dataset[pre_proc_dataset.Race==1][pre_proc_dataset.Promotion==1].shape[0]"
   ]
  },
  {
   "cell_type": "code",
   "execution_count": 144,
   "metadata": {},
   "outputs": [
    {
     "name": "stdout",
     "output_type": "stream",
     "text": [
      "68\n",
      "50\n"
     ]
    },
    {
     "data": {
      "image/png": "[encoded data removed]",
      "text/plain": [
       "<Figure size 640x480 with 1 Axes>"
      ]
     },
     "metadata": {},
     "output_type": "display_data"
    }
   ],
   "source": [
    "white_data=pre_proc_dataset[pre_proc_dataset.Race==1][['Combine','Oral','Written']]\n",
    "print(white_data.shape[0])\n",
    "other_data=pre_proc_dataset[pre_proc_dataset.Race==0][['Combine','Oral','Written']]\n",
    "print(other_data.shape[0])\n",
    "import matplotlib.patches as mpatches\n",
    "labels = []\n",
    "def add_label(violin, label):\n",
    "    color = violin[\"bodies\"][0].get_facecolor().flatten()\n",
    "    labels.append((mpatches.Patch(color=color), label))\n",
    "\n",
    "add_label(plt.violinplot(white_data,showmeans=True,showextrema=True), \"Race=1\")\n",
    "add_label(plt.violinplot(other_data,showmeans=True,showextrema=True), \"Race=0\")\n",
    "\n",
    "plt.ylabel('Normalized marks')\n",
    "plt.xlabel('Combine , Oral and Written')\n",
    "\n",
    "\n",
    "plt.legend(*zip(*labels), loc=2)\n",
    "plt.savefig('fig/marks.png')"
   ]
  },
  {
   "cell_type": "code",
   "execution_count": 145,
   "metadata": {},
   "outputs": [],
   "source": [
    "sensitive_attribute = 'Race'\n",
    "protected_attribute= ['Race']\n",
    "privileged_group = [{'Race':1}]\n",
    "unprivileged_group = [{'Race':0}]"
   ]
  },
  {
   "cell_type": "code",
   "execution_count": 146,
   "metadata": {},
   "outputs": [],
   "source": [
    "dataset_orig_train, dataset_orig_test = train_test_split(pre_proc_dataset, test_size=0.5)\n",
    "#dataset_orig_valid, dataset_orig_test = train_test_split(pre_proc_dataset, test_size=0.5)"
   ]
  },
  {
   "cell_type": "code",
   "execution_count": 147,
   "metadata": {},
   "outputs": [],
   "source": [
    "dataset_orig_train_bin = aif360.datasets.BinaryLabelDataset(favorable_label=1, \n",
    "                                 unfavorable_label=0,\n",
    "                                 df = dataset_orig_train, \n",
    "                                 label_names= ['Promotion'], \n",
    "                                 protected_attribute_names=protected_attribute)\n",
    "\n",
    "dataset_orig_test_bin = aif360.datasets.BinaryLabelDataset(favorable_label=1, \n",
    "                                 unfavorable_label=0,\n",
    "                                 df = dataset_orig_test, \n",
    "                                 label_names= ['Promotion'], \n",
    "                                 protected_attribute_names=protected_attribute\n",
    "                                 )\n"
   ]
  },
  {
   "attachments": {},
   "cell_type": "markdown",
   "metadata": {},
   "source": [
    "We can define our metric with a BinaryLabelDatasetMetric ;"
   ]
  },
  {
   "cell_type": "code",
   "execution_count": 148,
   "metadata": {},
   "outputs": [
    {
     "data": {
      "text/markdown": [
       "#### Original train dataset"
      ],
      "text/plain": [
       "<IPython.core.display.Markdown object>"
      ]
     },
     "metadata": {},
     "output_type": "display_data"
    },
    {
     "name": "stdout",
     "output_type": "stream",
     "text": [
      "Difference in mean outcomes between unprivileged and privileged groups = -0.496528\n",
      "Disparate impact = 0.309179\n"
     ]
    }
   ],
   "source": [
    "metric_orig_train = aif360.metrics.BinaryLabelDatasetMetric(dataset_orig_train_bin, \n",
    "                                         unprivileged_groups=unprivileged_group,\n",
    "                                         privileged_groups=privileged_group)\n",
    "display(Markdown(\"#### Original train dataset\"))\n",
    "print(\"Difference in mean outcomes between unprivileged and privileged groups = %f\" % metric_orig_train.mean_difference())\n",
    "print(\"Disparate impact = %f\" % metric_orig_train.disparate_impact())"
   ]
  },
  {
   "attachments": {},
   "cell_type": "markdown",
   "metadata": {},
   "source": [
    "Here we can understand that 20% of the privileged group (white race) is getting more positives outcomes in the training dataset. this is unwanted. So we are going to do some mitigation of this bias by reweighing the dataset. \n",
    "**Reweighing** transforms the dataset to have more equity between the privileged and unpivileged groups"
   ]
  },
  {
   "cell_type": "code",
   "execution_count": 149,
   "metadata": {},
   "outputs": [],
   "source": [
    "reweigh = Reweighing(unprivileged_groups=unprivileged_group,\n",
    "                     privileged_groups=privileged_group)\n",
    "\n",
    "dataset_transf_train = reweigh.fit_transform(dataset_orig_test_bin)\n",
    "dataset_transf_train = dataset_orig_train_bin.align_datasets(dataset_transf_train)\n",
    "\n",
    "dataset_transf_test = reweigh.fit_transform(dataset_orig_test_bin)\n",
    "dataset_transf_test = dataset_orig_train_bin.align_datasets(dataset_transf_test)"
   ]
  },
  {
   "cell_type": "code",
   "execution_count": 150,
   "metadata": {},
   "outputs": [
    {
     "data": {
      "text/markdown": [
       "#### Transformed training dataset"
      ],
      "text/plain": [
       "<IPython.core.display.Markdown object>"
      ]
     },
     "metadata": {},
     "output_type": "display_data"
    },
    {
     "name": "stdout",
     "output_type": "stream",
     "text": [
      "Difference in mean outcomes between unprivileged and privileged groups = 0.000000\n"
     ]
    }
   ],
   "source": [
    "metric_transf_train = aif360.metrics.BinaryLabelDatasetMetric(dataset_transf_train, \n",
    "                                         unprivileged_groups=unprivileged_group,\n",
    "                                         privileged_groups=privileged_group)\n",
    "display(Markdown(\"#### Transformed training dataset\"))\n",
    "print(\"Difference in mean outcomes between unprivileged and privileged groups = %f\" % metric_transf_train.mean_difference())"
   ]
  },
  {
   "attachments": {},
   "cell_type": "markdown",
   "metadata": {},
   "source": [
    "We can see that with the reweighing the mean outcome between the prvileged and the unprivileged was reduced to 0. So the dataset has now more equity between the privileged and unprivileged group.\n"
   ]
  },
  {
   "cell_type": "code",
   "execution_count": 151,
   "metadata": {},
   "outputs": [],
   "source": [
    "results=pd.DataFrame(index=['Mean difference','Disparate impact'])"
   ]
  },
  {
   "attachments": {},
   "cell_type": "markdown",
   "metadata": {},
   "source": [
    "## Data Loading and test with the original test\n",
    "\n",
    "Now we are going to load test data"
   ]
  },
  {
   "cell_type": "code",
   "execution_count": 152,
   "metadata": {},
   "outputs": [
    {
     "data": {
      "text/markdown": [
       "#### Original test dataset"
      ],
      "text/plain": [
       "<IPython.core.display.Markdown object>"
      ]
     },
     "metadata": {},
     "output_type": "display_data"
    },
    {
     "name": "stdout",
     "output_type": "stream",
     "text": [
      "Difference in mean outcomes between unprivileged and privileged groups = -0.108696\n",
      "Disparate impact = 0.782609\n"
     ]
    }
   ],
   "source": [
    "dataset_orig_test = dataset_transf_train.align_datasets(dataset_orig_test_bin)\n",
    "\n",
    "metric_orig_test = aif360.metrics.BinaryLabelDatasetMetric(dataset_orig_test_bin, \n",
    "                                         unprivileged_groups=unprivileged_group,\n",
    "                                         privileged_groups=privileged_group)\n",
    "\n",
    "display(Markdown(\"#### Original test dataset\"))\n",
    "print(\"Difference in mean outcomes between unprivileged and privileged groups = %f\" % metric_orig_test.mean_difference())\n",
    "print(\"Disparate impact = %f\" % metric_orig_test.disparate_impact())\n",
    "results['Original']=metric_orig_test.mean_difference(),metric_orig_test.disparate_impact()"
   ]
  },
  {
   "cell_type": "code",
   "execution_count": 153,
   "metadata": {},
   "outputs": [
    {
     "data": {
      "text/markdown": [
       "#### Transformed test dataset"
      ],
      "text/plain": [
       "<IPython.core.display.Markdown object>"
      ]
     },
     "metadata": {},
     "output_type": "display_data"
    },
    {
     "name": "stdout",
     "output_type": "stream",
     "text": [
      "Difference in mean outcomes between unprivileged and privileged groups = 0.000000\n",
      "Disparate impact = 1.000000\n"
     ]
    }
   ],
   "source": [
    "dataset_transf_test = reweigh.transform(dataset_orig_test_bin)\n",
    "dataset_transf_test= dataset_orig_test_bin.align_datasets(dataset_transf_train)\n",
    "\n",
    "metric_transf_test = aif360.metrics.BinaryLabelDatasetMetric(dataset_transf_test, \n",
    "                                         unprivileged_groups=unprivileged_group,\n",
    "                                         privileged_groups=privileged_group)\n",
    "\n",
    "display(Markdown(\"#### Transformed test dataset\"))\n",
    "print(\"Difference in mean outcomes between unprivileged and privileged groups = %f\" % metric_transf_test.mean_difference())\n",
    "print(\"Disparate impact = %f\" % metric_transf_test.disparate_impact())"
   ]
  },
  {
   "attachments": {},
   "cell_type": "markdown",
   "metadata": {},
   "source": [
    "# Prediction"
   ]
  },
  {
   "attachments": {},
   "cell_type": "markdown",
   "metadata": {},
   "source": [
    "## Reweight + Logistic regression"
   ]
  },
  {
   "attachments": {},
   "cell_type": "markdown",
   "metadata": {},
   "source": [
    "### Original dataset"
   ]
  },
  {
   "cell_type": "code",
   "execution_count": 154,
   "metadata": {},
   "outputs": [
    {
     "name": "stdout",
     "output_type": "stream",
     "text": [
      "Training accuracy =1.000000\n",
      "Testing accuracy = 0.898305\n"
     ]
    }
   ],
   "source": [
    "from sklearn.preprocessing import StandardScaler\n",
    "from sklearn.linear_model import LogisticRegression\n",
    "\n",
    "scale_orig = StandardScaler()\n",
    "X_train = scale_orig.fit_transform(dataset_orig_train_bin.features)\n",
    "y_train = dataset_orig_train_bin.labels.ravel()\n",
    "\n",
    "X_test= scale_orig.fit_transform(dataset_orig_test_bin.features)\n",
    "y_test= dataset_orig_test_bin.labels.ravel()\n",
    "\n",
    "lmod = LogisticRegression()\n",
    "lmod.fit(X_train, y_train)\n",
    "y_train_pred = lmod.predict(X_train)\n",
    "\n",
    "y_test_pred=lmod.predict(X_test)\n",
    "# positive class index\n",
    "pos_ind = np.where(lmod.classes_ == dataset_orig_train_bin.favorable_label)[0][0]\n",
    "\n",
    "dataset_orig_train_pred = dataset_orig_train_bin.copy()\n",
    "dataset_orig_train_pred.labels = y_train_pred\n",
    "\n",
    "train_acc=(y_train==y_train_pred).sum()/y_train.shape[0]\n",
    "print(\"Training accuracy =%f\" %train_acc)\n",
    "\n",
    "test_acc=(y_test_pred==y_test).sum()/y_test.shape[0]\n",
    "print(\"Testing accuracy = %f\"%test_acc)"
   ]
  },
  {
   "attachments": {},
   "cell_type": "markdown",
   "metadata": {},
   "source": [
    "### Tranformed dataset"
   ]
  },
  {
   "cell_type": "code",
   "execution_count": 155,
   "metadata": {},
   "outputs": [],
   "source": [
    "dataset_transf_train\n",
    "dataset_transf_test\n",
    "\n",
    "scale_orig = StandardScaler()\n",
    "X_train = scale_orig.fit_transform(dataset_transf_train.features)\n",
    "y_train = dataset_transf_train.labels.ravel()\n",
    "\n",
    "X_test= scale_orig.fit_transform(dataset_transf_test.features)\n",
    "y_test= dataset_transf_test.labels.ravel()\n",
    "\n",
    "lmod = LogisticRegression()\n",
    "lmod.fit(X_train, y_train)\n",
    "y_train_pred = lmod.predict(X_train)\n",
    "\n",
    "y_test_pred=lmod.predict(X_test)"
   ]
  },
  {
   "cell_type": "code",
   "execution_count": 156,
   "metadata": {},
   "outputs": [],
   "source": [
    "test_data_pred=dataset_transf_test.copy()\n",
    "test_data_pred.labels=y_test_pred"
   ]
  },
  {
   "cell_type": "code",
   "execution_count": 157,
   "metadata": {},
   "outputs": [
    {
     "name": "stdout",
     "output_type": "stream",
     "text": [
      "Difference in mean outcomes between unprivileged and privileged groups = 0.025424\n",
      "Disparate impact = 1.058824\n",
      "Training accuracy =0.983051\n",
      "Testing accuracy = 0.983051\n"
     ]
    }
   ],
   "source": [
    "metric_test_pred = aif360.metrics.BinaryLabelDatasetMetric(test_data_pred, \n",
    "                                         unprivileged_groups=unprivileged_group,\n",
    "                                         privileged_groups=privileged_group)\n",
    "\n",
    "print(\"Difference in mean outcomes between unprivileged and privileged groups = %f\" % metric_test_pred.mean_difference())\n",
    "print(\"Disparate impact = %f\" % metric_test_pred.disparate_impact())\n",
    "\n",
    "train_acc=(y_train==y_train_pred).sum()/y_train.shape[0]\n",
    "print(\"Training accuracy =%f\" %train_acc)\n",
    "\n",
    "test_acc=(y_test_pred==y_test).sum()/y_test.shape[0]\n",
    "print(\"Testing accuracy = %f\"%test_acc)\n",
    "\n",
    "results['RW+Rlog']=metric_test_pred.mean_difference(),metric_test_pred.disparate_impact()"
   ]
  },
  {
   "attachments": {},
   "cell_type": "markdown",
   "metadata": {},
   "source": [
    "## Reweight + Random forest"
   ]
  },
  {
   "attachments": {},
   "cell_type": "markdown",
   "metadata": {},
   "source": [
    "### Original dataset"
   ]
  },
  {
   "cell_type": "code",
   "execution_count": 158,
   "metadata": {},
   "outputs": [
    {
     "name": "stdout",
     "output_type": "stream",
     "text": [
      "Training accuracy =1.000000\n",
      "Testing accuracy = 0.966102\n"
     ]
    }
   ],
   "source": [
    "from sklearn.preprocessing import StandardScaler\n",
    "from sklearn.ensemble import RandomForestClassifier\n",
    "\n",
    "scale_orig = StandardScaler()\n",
    "X_train = scale_orig.fit_transform(dataset_orig_train_bin.features)\n",
    "y_train = dataset_orig_train_bin.labels.ravel()\n",
    "\n",
    "X_test= scale_orig.fit_transform(dataset_orig_test_bin.features)\n",
    "y_test= dataset_orig_test_bin.labels.ravel()\n",
    "\n",
    "randf = RandomForestClassifier(n_estimators=500)\n",
    "randf.fit(X_train, y_train)\n",
    "y_train_pred = randf.predict(X_train)\n",
    "\n",
    "y_test_pred=randf.predict(X_test)\n",
    "# positive class index\n",
    "pos_ind = np.where(randf.classes_ == dataset_orig_train_bin.favorable_label)[0][0]\n",
    "\n",
    "dataset_orig_train_pred = dataset_orig_train_bin.copy()\n",
    "dataset_orig_train_pred.labels = y_train_pred\n",
    "\n",
    "train_acc=(y_train==y_train_pred).sum()/y_train.shape[0]\n",
    "print(\"Training accuracy =%f\" %train_acc)\n",
    "\n",
    "test_acc=(y_test_pred==y_test).sum()/y_test.shape[0]\n",
    "print(\"Testing accuracy = %f\"%test_acc)"
   ]
  },
  {
   "attachments": {},
   "cell_type": "markdown",
   "metadata": {},
   "source": [
    "### Transformed dataset"
   ]
  },
  {
   "cell_type": "code",
   "execution_count": 159,
   "metadata": {},
   "outputs": [],
   "source": [
    "scale_orig = StandardScaler()\n",
    "X_train = scale_orig.fit_transform(dataset_transf_train.features)\n",
    "y_train = dataset_transf_train.labels.ravel()\n",
    "\n",
    "X_test= scale_orig.fit_transform(dataset_transf_test.features)\n",
    "y_test= dataset_transf_test.labels.ravel()\n",
    "\n",
    "randf = RandomForestClassifier(n_estimators=500)\n",
    "randf.fit(X_train, y_train)\n",
    "y_train_pred = randf.predict(X_train)\n",
    "\n",
    "y_test_pred=randf.predict(X_test)"
   ]
  },
  {
   "cell_type": "code",
   "execution_count": 160,
   "metadata": {},
   "outputs": [],
   "source": [
    "test_data_pred=dataset_transf_test.copy()\n",
    "test_data_pred.labels=y_test_pred"
   ]
  },
  {
   "cell_type": "code",
   "execution_count": 161,
   "metadata": {},
   "outputs": [
    {
     "name": "stdout",
     "output_type": "stream",
     "text": [
      "Difference in mean outcomes between unprivileged and privileged groups = 0.000000\n",
      "Disparate impact = 1.000000\n",
      "Training accuracy =1.000000\n",
      "Testing accuracy = 1.000000\n"
     ]
    }
   ],
   "source": [
    "metric_test_pred = aif360.metrics.BinaryLabelDatasetMetric(test_data_pred, \n",
    "                                         unprivileged_groups=unprivileged_group,\n",
    "                                         privileged_groups=privileged_group)\n",
    "\n",
    "print(\"Difference in mean outcomes between unprivileged and privileged groups = %f\" % metric_test_pred.mean_difference())\n",
    "print(\"Disparate impact = %f\" % metric_test_pred.disparate_impact())\n",
    "\n",
    "train_acc=(y_train==y_train_pred).sum()/y_train.shape[0]\n",
    "print(\"Training accuracy =%f\" %train_acc)\n",
    "\n",
    "test_acc=(y_test_pred==y_test).sum()/y_test.shape[0]\n",
    "print(\"Testing accuracy = %f\"%test_acc)\n",
    "\n",
    "results['RW+RandFor']=metric_test_pred.mean_difference(),metric_test_pred.disparate_impact()"
   ]
  },
  {
   "attachments": {},
   "cell_type": "markdown",
   "metadata": {},
   "source": [
    "## Grid Search Reduction"
   ]
  },
  {
   "cell_type": "code",
   "execution_count": 162,
   "metadata": {},
   "outputs": [
    {
     "data": {
      "text/html": [
       "<style>#sk-container-id-5 {color: black;background-color: white;}#sk-container-id-5 pre{padding: 0;}#sk-container-id-5 div.sk-toggleable {background-color: white;}#sk-container-id-5 label.sk-toggleable__label {cursor: pointer;display: block;width: 100%;margin-bottom: 0;padding: 0.3em;box-sizing: border-box;text-align: center;}#sk-container-id-5 label.sk-toggleable__label-arrow:before {content: \"▸\";float: left;margin-right: 0.25em;color: #696969;}#sk-container-id-5 label.sk-toggleable__label-arrow:hover:before {color: black;}#sk-container-id-5 div.sk-estimator:hover label.sk-toggleable__label-arrow:before {color: black;}#sk-container-id-5 div.sk-toggleable__content {max-height: 0;max-width: 0;overflow: hidden;text-align: left;background-color: #f0f8ff;}#sk-container-id-5 div.sk-toggleable__content pre {margin: 0.2em;color: black;border-radius: 0.25em;background-color: #f0f8ff;}#sk-container-id-5 input.sk-toggleable__control:checked~div.sk-toggleable__content {max-height: 200px;max-width: 100%;overflow: auto;}#sk-container-id-5 input.sk-toggleable__control:checked~label.sk-toggleable__label-arrow:before {content: \"▾\";}#sk-container-id-5 div.sk-estimator input.sk-toggleable__control:checked~label.sk-toggleable__label {background-color: #d4ebff;}#sk-container-id-5 div.sk-label input.sk-toggleable__control:checked~label.sk-toggleable__label {background-color: #d4ebff;}#sk-container-id-5 input.sk-hidden--visually {border: 0;clip: rect(1px 1px 1px 1px);clip: rect(1px, 1px, 1px, 1px);height: 1px;margin: -1px;overflow: hidden;padding: 0;position: absolute;width: 1px;}#sk-container-id-5 div.sk-estimator {font-family: monospace;background-color: #f0f8ff;border: 1px dotted black;border-radius: 0.25em;box-sizing: border-box;margin-bottom: 0.5em;}#sk-container-id-5 div.sk-estimator:hover {background-color: #d4ebff;}#sk-container-id-5 div.sk-parallel-item::after {content: \"\";width: 100%;border-bottom: 1px solid gray;flex-grow: 1;}#sk-container-id-5 div.sk-label:hover label.sk-toggleable__label {background-color: #d4ebff;}#sk-container-id-5 div.sk-serial::before {content: \"\";position: absolute;border-left: 1px solid gray;box-sizing: border-box;top: 0;bottom: 0;left: 50%;z-index: 0;}#sk-container-id-5 div.sk-serial {display: flex;flex-direction: column;align-items: center;background-color: white;padding-right: 0.2em;padding-left: 0.2em;position: relative;}#sk-container-id-5 div.sk-item {position: relative;z-index: 1;}#sk-container-id-5 div.sk-parallel {display: flex;align-items: stretch;justify-content: center;background-color: white;position: relative;}#sk-container-id-5 div.sk-item::before, #sk-container-id-5 div.sk-parallel-item::before {content: \"\";position: absolute;border-left: 1px solid gray;box-sizing: border-box;top: 0;bottom: 0;left: 50%;z-index: -1;}#sk-container-id-5 div.sk-parallel-item {display: flex;flex-direction: column;z-index: 1;position: relative;background-color: white;}#sk-container-id-5 div.sk-parallel-item:first-child::after {align-self: flex-end;width: 50%;}#sk-container-id-5 div.sk-parallel-item:last-child::after {align-self: flex-start;width: 50%;}#sk-container-id-5 div.sk-parallel-item:only-child::after {width: 0;}#sk-container-id-5 div.sk-dashed-wrapped {border: 1px dashed gray;margin: 0 0.4em 0.5em 0.4em;box-sizing: border-box;padding-bottom: 0.4em;background-color: white;}#sk-container-id-5 div.sk-label label {font-family: monospace;font-weight: bold;display: inline-block;line-height: 1.2em;}#sk-container-id-5 div.sk-label-container {text-align: center;}#sk-container-id-5 div.sk-container {/* jupyter's `normalize.less` sets `[hidden] { display: none; }` but bootstrap.min.css set `[hidden] { display: none !important; }` so we also need the `!important` here to be able to override the default hidden behavior on the sphinx rendered scikit-learn.org. See: https://github.com/scikit-learn/scikit-learn/issues/21755 */display: inline-block !important;position: relative;}#sk-container-id-5 div.sk-text-repr-fallback {display: none;}</style><div id=\"sk-container-id-5\" class=\"sk-top-container\"><div class=\"sk-text-repr-fallback\"><pre>GridSearchReduction(constraints=&#x27;DemographicParity&#x27;,\n",
       "                    estimator=RandomForestClassifier(n_estimators=500),\n",
       "                    prot_attr=[&#x27;Race&#x27;])</pre><b>In a Jupyter environment, please rerun this cell to show the HTML representation or trust the notebook. <br />On GitHub, the HTML representation is unable to render, please try loading this page with nbviewer.org.</b></div><div class=\"sk-container\" hidden><div class=\"sk-item sk-dashed-wrapped\"><div class=\"sk-label-container\"><div class=\"sk-label sk-toggleable\"><input class=\"sk-toggleable__control sk-hidden--visually\" id=\"sk-estimator-id-13\" type=\"checkbox\" ><label for=\"sk-estimator-id-13\" class=\"sk-toggleable__label sk-toggleable__label-arrow\">GridSearchReduction</label><div class=\"sk-toggleable__content\"><pre>GridSearchReduction(constraints=&#x27;DemographicParity&#x27;,\n",
       "                    estimator=RandomForestClassifier(n_estimators=500),\n",
       "                    prot_attr=[&#x27;Race&#x27;])</pre></div></div></div><div class=\"sk-parallel\"><div class=\"sk-parallel-item\"><div class=\"sk-item\"><div class=\"sk-label-container\"><div class=\"sk-label sk-toggleable\"><input class=\"sk-toggleable__control sk-hidden--visually\" id=\"sk-estimator-id-14\" type=\"checkbox\" ><label for=\"sk-estimator-id-14\" class=\"sk-toggleable__label sk-toggleable__label-arrow\">estimator: RandomForestClassifier</label><div class=\"sk-toggleable__content\"><pre>RandomForestClassifier(n_estimators=500)</pre></div></div></div><div class=\"sk-serial\"><div class=\"sk-item\"><div class=\"sk-estimator sk-toggleable\"><input class=\"sk-toggleable__control sk-hidden--visually\" id=\"sk-estimator-id-15\" type=\"checkbox\" ><label for=\"sk-estimator-id-15\" class=\"sk-toggleable__label sk-toggleable__label-arrow\">RandomForestClassifier</label><div class=\"sk-toggleable__content\"><pre>RandomForestClassifier(n_estimators=500)</pre></div></div></div></div></div></div></div></div></div></div>"
      ],
      "text/plain": [
       "GridSearchReduction(constraints='DemographicParity',\n",
       "                    estimator=RandomForestClassifier(n_estimators=500),\n",
       "                    prot_attr=['Race'])"
      ]
     },
     "execution_count": 162,
     "metadata": {},
     "output_type": "execute_result"
    }
   ],
   "source": [
    "from aif360.sklearn.inprocessing import GridSearchReduction\n",
    "from sklearn.ensemble import RandomForestClassifier\n",
    "\n",
    "X_train = dataset_orig_train_bin.convert_to_dataframe()[0][['Position','Oral','Written','Race','Combine']]\n",
    "y_train = dataset_orig_train_bin.labels.ravel()\n",
    "\n",
    "gsd=GridSearchReduction(estimator=RandomForestClassifier(n_estimators=500),prot_attr=protected_attribute,constraints='DemographicParity')\n",
    "gsd.fit(X_train,y_train)"
   ]
  },
  {
   "cell_type": "code",
   "execution_count": 163,
   "metadata": {},
   "outputs": [
    {
     "data": {
      "text/plain": [
       "0.9830508474576272"
      ]
     },
     "execution_count": 163,
     "metadata": {},
     "output_type": "execute_result"
    }
   ],
   "source": [
    "X_test= dataset_orig_test_bin.convert_to_dataframe()[0][['Position','Oral','Written','Race','Combine']]\n",
    "y_test= dataset_orig_test_bin.labels.ravel()\n",
    "\n",
    "y_test_pred=gsd.predict(X_test)\n",
    "(y_test_pred==y_test).sum()/y_test_pred.shape[0]"
   ]
  },
  {
   "cell_type": "code",
   "execution_count": 164,
   "metadata": {},
   "outputs": [
    {
     "name": "stdout",
     "output_type": "stream",
     "text": [
      "Difference in mean outcomes between unprivileged and privileged groups =-0.496528\n",
      "Disparate impact = 0.309179\n",
      "Difference in mean outcomes between unprivileged and privileged groups after GSD =-0.080918\n",
      "Disparate impact after GSD = 0.828645\n"
     ]
    }
   ],
   "source": [
    "test_data_pred=dataset_orig_test_bin.copy()\n",
    "test_data_pred.labels=y_test_pred\n",
    "\n",
    "metric_test_pred = aif360.metrics.BinaryLabelDatasetMetric(test_data_pred, \n",
    "                                         unprivileged_groups=unprivileged_group,\n",
    "                                         privileged_groups=privileged_group)\n",
    "\n",
    "metric_train = aif360.metrics.BinaryLabelDatasetMetric(dataset_orig_train_bin, \n",
    "                                         unprivileged_groups=unprivileged_group,\n",
    "                                         privileged_groups=privileged_group)\n",
    "\n",
    "print(\"Difference in mean outcomes between unprivileged and privileged groups =%f\" % metric_train.mean_difference())\n",
    "print(\"Disparate impact = %f\" % metric_train.disparate_impact())\n",
    "\n",
    "print(\"Difference in mean outcomes between unprivileged and privileged groups after GSD =%f\" % metric_test_pred.mean_difference())\n",
    "print(\"Disparate impact after GSD = %f\" % metric_test_pred.disparate_impact())\n",
    "\n",
    "results['GridSearchReduction']=metric_test_pred.mean_difference(),metric_test_pred.disparate_impact()\n"
   ]
  },
  {
   "attachments": {},
   "cell_type": "markdown",
   "metadata": {},
   "source": [
    "# Results"
   ]
  },
  {
   "cell_type": "code",
   "execution_count": 165,
   "metadata": {},
   "outputs": [
    {
     "data": {
      "text/html": [
       "<div>\n",
       "<style scoped>\n",
       "    .dataframe tbody tr th:only-of-type {\n",
       "        vertical-align: middle;\n",
       "    }\n",
       "\n",
       "    .dataframe tbody tr th {\n",
       "        vertical-align: top;\n",
       "    }\n",
       "\n",
       "    .dataframe thead th {\n",
       "        text-align: right;\n",
       "    }\n",
       "</style>\n",
       "<table border=\"1\" class=\"dataframe\">\n",
       "  <thead>\n",
       "    <tr style=\"text-align: right;\">\n",
       "      <th></th>\n",
       "      <th>Mean difference</th>\n",
       "      <th>Disparate impact</th>\n",
       "    </tr>\n",
       "  </thead>\n",
       "  <tbody>\n",
       "    <tr>\n",
       "      <th>Original</th>\n",
       "      <td>-1.086957e-01</td>\n",
       "      <td>0.782609</td>\n",
       "    </tr>\n",
       "    <tr>\n",
       "      <th>RW+Rlog</th>\n",
       "      <td>2.542373e-02</td>\n",
       "      <td>1.058824</td>\n",
       "    </tr>\n",
       "    <tr>\n",
       "      <th>RW+RandFor</th>\n",
       "      <td>1.110223e-16</td>\n",
       "      <td>1.000000</td>\n",
       "    </tr>\n",
       "    <tr>\n",
       "      <th>GridSearchReduction</th>\n",
       "      <td>-8.091787e-02</td>\n",
       "      <td>0.828645</td>\n",
       "    </tr>\n",
       "  </tbody>\n",
       "</table>\n",
       "</div>"
      ],
      "text/plain": [
       "                     Mean difference  Disparate impact\n",
       "Original               -1.086957e-01          0.782609\n",
       "RW+Rlog                 2.542373e-02          1.058824\n",
       "RW+RandFor              1.110223e-16          1.000000\n",
       "GridSearchReduction    -8.091787e-02          0.828645"
      ]
     },
     "execution_count": 165,
     "metadata": {},
     "output_type": "execute_result"
    }
   ],
   "source": [
    "results.transpose()"
   ]
  }
 ],
 "metadata": {
  "kernelspec": {
   "display_name": "base",
   "language": "python",
   "name": "python3"
  },
  "language_info": {
   "codemirror_mode": {
    "name": "ipython",
    "version": 3
   },
   "file_extension": ".py",
   "mimetype": "text/x-python",
   "name": "python",
   "nbconvert_exporter": "python",
   "pygments_lexer": "ipython3",
   "version": "3.9.12"
  },
  "orig_nbformat": 4,
  "vscode": {
   "interpreter": {
    "hash": "7339996d7815a0ae30850c182ba9bbc0a1cb89e61563a0ae1819bddf17b67295"
   }
  }
 },
 "nbformat": 4,
 "nbformat_minor": 2
}
