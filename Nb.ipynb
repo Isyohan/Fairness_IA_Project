{
 "cells": [
  {
   "cell_type": "code",
   "execution_count": 2,
   "metadata": {},
   "outputs": [
    {
     "name": "stdout",
     "output_type": "stream",
     "text": [
      "Requirement already satisfied: aif360 in /Users/yohanismael/opt/anaconda3/lib/python3.9/site-packages (0.5.0)\n",
      "Requirement already satisfied: scipy>=1.2.0 in /Users/yohanismael/opt/anaconda3/lib/python3.9/site-packages (from aif360) (1.9.3)\n",
      "Requirement already satisfied: matplotlib in /Users/yohanismael/opt/anaconda3/lib/python3.9/site-packages (from aif360) (3.5.1)\n",
      "Requirement already satisfied: pandas>=0.24.0 in /Users/yohanismael/opt/anaconda3/lib/python3.9/site-packages (from aif360) (1.5.1)\n",
      "Requirement already satisfied: scikit-learn>=1.0 in /Users/yohanismael/opt/anaconda3/lib/python3.9/site-packages (from aif360) (1.2.0)\n",
      "Requirement already satisfied: numpy>=1.16 in /Users/yohanismael/opt/anaconda3/lib/python3.9/site-packages (from aif360) (1.23.4)\n",
      "Requirement already satisfied: pytz>=2020.1 in /Users/yohanismael/opt/anaconda3/lib/python3.9/site-packages (from pandas>=0.24.0->aif360) (2022.6)\n",
      "Requirement already satisfied: python-dateutil>=2.8.1 in /Users/yohanismael/opt/anaconda3/lib/python3.9/site-packages (from pandas>=0.24.0->aif360) (2.8.2)\n",
      "Requirement already satisfied: six>=1.5 in /Users/yohanismael/opt/anaconda3/lib/python3.9/site-packages (from python-dateutil>=2.8.1->pandas>=0.24.0->aif360) (1.16.0)\n",
      "Requirement already satisfied: joblib>=1.1.1 in /Users/yohanismael/opt/anaconda3/lib/python3.9/site-packages (from scikit-learn>=1.0->aif360) (1.2.0)\n",
      "Requirement already satisfied: threadpoolctl>=2.0.0 in /Users/yohanismael/opt/anaconda3/lib/python3.9/site-packages (from scikit-learn>=1.0->aif360) (3.1.0)\n",
      "Requirement already satisfied: pillow>=6.2.0 in /Users/yohanismael/opt/anaconda3/lib/python3.9/site-packages (from matplotlib->aif360) (9.0.1)\n",
      "Requirement already satisfied: packaging>=20.0 in /Users/yohanismael/opt/anaconda3/lib/python3.9/site-packages (from matplotlib->aif360) (21.3)\n",
      "Requirement already satisfied: cycler>=0.10 in /Users/yohanismael/opt/anaconda3/lib/python3.9/site-packages (from matplotlib->aif360) (0.11.0)\n",
      "Requirement already satisfied: kiwisolver>=1.0.1 in /Users/yohanismael/opt/anaconda3/lib/python3.9/site-packages (from matplotlib->aif360) (1.3.2)\n",
      "Requirement already satisfied: fonttools>=4.22.0 in /Users/yohanismael/opt/anaconda3/lib/python3.9/site-packages (from matplotlib->aif360) (4.25.0)\n",
      "Requirement already satisfied: pyparsing>=2.2.1 in /Users/yohanismael/opt/anaconda3/lib/python3.9/site-packages (from matplotlib->aif360) (3.0.9)\n",
      "Note: you may need to restart the kernel to use updated packages.\n"
     ]
    }
   ],
   "source": [
    "%pip install aif360"
   ]
  },
  {
   "cell_type": "code",
   "execution_count": 2,
   "metadata": {},
   "outputs": [],
   "source": [
    "import pandas as pd\n",
    "import arff"
   ]
  },
  {
   "cell_type": "code",
   "execution_count": 3,
   "metadata": {},
   "outputs": [
    {
     "data": {
      "text/html": [
       "<div>\n",
       "<style scoped>\n",
       "    .dataframe tbody tr th:only-of-type {\n",
       "        vertical-align: middle;\n",
       "    }\n",
       "\n",
       "    .dataframe tbody tr th {\n",
       "        vertical-align: top;\n",
       "    }\n",
       "\n",
       "    .dataframe thead th {\n",
       "        text-align: right;\n",
       "    }\n",
       "</style>\n",
       "<table border=\"1\" class=\"dataframe\">\n",
       "  <thead>\n",
       "    <tr style=\"text-align: right;\">\n",
       "      <th></th>\n",
       "      <th>Position</th>\n",
       "      <th>Oral</th>\n",
       "      <th>Written</th>\n",
       "      <th>Race</th>\n",
       "      <th>Combine</th>\n",
       "      <th>Promotion</th>\n",
       "    </tr>\n",
       "  </thead>\n",
       "  <tbody>\n",
       "    <tr>\n",
       "      <th>0</th>\n",
       "      <td>Captain</td>\n",
       "      <td>89.52</td>\n",
       "      <td>95</td>\n",
       "      <td>W</td>\n",
       "      <td>92.808</td>\n",
       "      <td>Promotion</td>\n",
       "    </tr>\n",
       "    <tr>\n",
       "      <th>1</th>\n",
       "      <td>Captain</td>\n",
       "      <td>80.00</td>\n",
       "      <td>95</td>\n",
       "      <td>W</td>\n",
       "      <td>89.000</td>\n",
       "      <td>Promotion</td>\n",
       "    </tr>\n",
       "    <tr>\n",
       "      <th>2</th>\n",
       "      <td>Captain</td>\n",
       "      <td>82.38</td>\n",
       "      <td>87</td>\n",
       "      <td>W</td>\n",
       "      <td>85.152</td>\n",
       "      <td>Promotion</td>\n",
       "    </tr>\n",
       "    <tr>\n",
       "      <th>3</th>\n",
       "      <td>Captain</td>\n",
       "      <td>88.57</td>\n",
       "      <td>76</td>\n",
       "      <td>W</td>\n",
       "      <td>81.028</td>\n",
       "      <td>Promotion</td>\n",
       "    </tr>\n",
       "    <tr>\n",
       "      <th>4</th>\n",
       "      <td>Captain</td>\n",
       "      <td>76.19</td>\n",
       "      <td>84</td>\n",
       "      <td>W</td>\n",
       "      <td>80.876</td>\n",
       "      <td>Promotion</td>\n",
       "    </tr>\n",
       "    <tr>\n",
       "      <th>...</th>\n",
       "      <td>...</td>\n",
       "      <td>...</td>\n",
       "      <td>...</td>\n",
       "      <td>...</td>\n",
       "      <td>...</td>\n",
       "      <td>...</td>\n",
       "    </tr>\n",
       "    <tr>\n",
       "      <th>113</th>\n",
       "      <td>Lieutenant</td>\n",
       "      <td>40.83</td>\n",
       "      <td>64</td>\n",
       "      <td>H</td>\n",
       "      <td>54.732</td>\n",
       "      <td>No promotion</td>\n",
       "    </tr>\n",
       "    <tr>\n",
       "      <th>114</th>\n",
       "      <td>Lieutenant</td>\n",
       "      <td>52.08</td>\n",
       "      <td>56</td>\n",
       "      <td>B</td>\n",
       "      <td>54.432</td>\n",
       "      <td>No promotion</td>\n",
       "    </tr>\n",
       "    <tr>\n",
       "      <th>115</th>\n",
       "      <td>Lieutenant</td>\n",
       "      <td>48.33</td>\n",
       "      <td>58</td>\n",
       "      <td>H</td>\n",
       "      <td>54.132</td>\n",
       "      <td>No promotion</td>\n",
       "    </tr>\n",
       "    <tr>\n",
       "      <th>116</th>\n",
       "      <td>Lieutenant</td>\n",
       "      <td>52.92</td>\n",
       "      <td>49</td>\n",
       "      <td>B</td>\n",
       "      <td>50.568</td>\n",
       "      <td>No promotion</td>\n",
       "    </tr>\n",
       "    <tr>\n",
       "      <th>117</th>\n",
       "      <td>Lieutenant</td>\n",
       "      <td>45.83</td>\n",
       "      <td>46</td>\n",
       "      <td>B</td>\n",
       "      <td>45.932</td>\n",
       "      <td>No promotion</td>\n",
       "    </tr>\n",
       "  </tbody>\n",
       "</table>\n",
       "<p>118 rows × 6 columns</p>\n",
       "</div>"
      ],
      "text/plain": [
       "       Position   Oral  Written Race  Combine     Promotion\n",
       "0       Captain  89.52       95    W   92.808     Promotion\n",
       "1       Captain  80.00       95    W   89.000     Promotion\n",
       "2       Captain  82.38       87    W   85.152     Promotion\n",
       "3       Captain  88.57       76    W   81.028     Promotion\n",
       "4       Captain  76.19       84    W   80.876     Promotion\n",
       "..          ...    ...      ...  ...      ...           ...\n",
       "113  Lieutenant  40.83       64    H   54.732  No promotion\n",
       "114  Lieutenant  52.08       56    B   54.432  No promotion\n",
       "115  Lieutenant  48.33       58    H   54.132  No promotion\n",
       "116  Lieutenant  52.92       49    B   50.568  No promotion\n",
       "117  Lieutenant  45.83       46    B   45.932  No promotion\n",
       "\n",
       "[118 rows x 6 columns]"
      ]
     },
     "execution_count": 3,
     "metadata": {},
     "output_type": "execute_result"
    }
   ],
   "source": [
    "data_ricci=pd.read_csv('data/Ricci/ricci_processed.csv')\n",
    "data_ricci"
   ]
  },
  {
   "cell_type": "code",
   "execution_count": 4,
   "metadata": {},
   "outputs": [],
   "source": [
    "columns=['age','workclass','fnlwgt','education','education-num','marital-status','occupation','relationship','race','sex','capital-gain','capital-loss','hours-per-week','native-country','income']\n",
    "data_adult=pd.read_csv('data/adult/adult.data',header=None,names=columns)"
   ]
  },
  {
   "cell_type": "code",
   "execution_count": null,
   "metadata": {},
   "outputs": [],
   "source": []
  }
 ],
 "metadata": {
  "kernelspec": {
   "display_name": "base",
   "language": "python",
   "name": "python3"
  },
  "language_info": {
   "codemirror_mode": {
    "name": "ipython",
    "version": 3
   },
   "file_extension": ".py",
   "mimetype": "text/x-python",
   "name": "python",
   "nbconvert_exporter": "python",
   "pygments_lexer": "ipython3",
   "version": "3.9.12"
  },
  "orig_nbformat": 4,
  "vscode": {
   "interpreter": {
    "hash": "7339996d7815a0ae30850c182ba9bbc0a1cb89e61563a0ae1819bddf17b67295"
   }
  }
 },
 "nbformat": 4,
 "nbformat_minor": 2
}
